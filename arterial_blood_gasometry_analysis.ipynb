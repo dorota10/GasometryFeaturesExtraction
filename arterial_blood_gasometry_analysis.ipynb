{
  "cells": [
    {
      "cell_type": "markdown",
      "metadata": {
        "collapsed": true,
        "id": "KHiYB9Ia2uY0",
        "pycharm": {
          "is_executing": true
        }
      },
      "source": [
        "#### Libraries"
      ]
    },
    {
      "cell_type": "code",
      "execution_count": null,
      "metadata": {
        "id": "YrZwVwFB2uY2"
      },
      "outputs": [],
      "source": [
        "import pandas as pd #tabele\n",
        "import numpy as np #np. wektory, listy\n",
        "import matplotlib.pyplot as plt #wykresy\n",
        "import seaborn as sns #wykresy korelacji\n",
        "from scipy import stats #kruskal-wallis, mann-whitney\n",
        "from sklearn.impute import KNNImputer\n",
        "from sklearn import tree\n",
        "from sklearn.model_selection import train_test_split\n",
        "from sklearn.metrics import accuracy_score\n",
        "from sklearn.model_selection import StratifiedKFold\n",
        "from sklearn.dummy import DummyClassifier\n",
        "from sklearn.tree import export_graphviz\n",
        "import graphviz"
      ]
    },
    {
      "cell_type": "markdown",
      "metadata": {},
      "source": [
        "#### Peprocessing"
      ]
    },
    {
      "cell_type": "code",
      "execution_count": null,
      "metadata": {
        "id": "FioAkERe29p2"
      },
      "outputs": [],
      "source": [
        "df0=pd.read_excel(\"data.xlsx\", sheet_name=\"Arkusz1\")\n",
        "df0=df0.pivot_table(index=(\"PACJENT_NR\", \"BADANIE_NR\", \"ZGON\"), columns=[\"KOD_BADANIA\"], values=[\"WYNIK\"]) #ustawienie wyników w kolumnach\n",
        "df0.reset_index(inplace=True) #rozpakowanie indeksów\n",
        "df0.columns.name=\"Lp\"\n",
        "df0.columns=['PACJENT_NR','BADANIE_NR', 'ZGON', 'BETET', 'CO2TET', 'HCO3ACTE', 'HCO3STTE', 'O2SATTET', 'O2TET', 'PHTET']\n",
        "#zamiana PH na liczbę jonów wodoru, min:35 , max: 45 (im więcej, tym niższe PH)\n",
        "df0[\"IONH\"]=10**(9-df0[\"PHTET\"])"
      ]
    },
    {
      "cell_type": "code",
      "execution_count": null,
      "metadata": {
        "colab": {
          "base_uri": "https://localhost:8080/",
          "height": 261
        },
        "id": "8NbOBPEcPW2_",
        "outputId": "2e0bfd8f-359d-427e-af0e-a3cc10a9a1a4"
      },
      "outputs": [],
      "source": [
        "#wypełnianie braków metodą K najbliższych sąsiadów\n",
        "imputer = KNNImputer(n_neighbors=3)\n",
        "df=df0.copy()\n",
        "numeric_cols = df.columns[~df.columns.isin([\"ZGON\"])]\n",
        "transforms=imputer.fit_transform(df.loc[:, numeric_cols])\n",
        "df.loc[:, numeric_cols] = transforms\n",
        "df.head()"
      ]
    },
    {
      "cell_type": "code",
      "execution_count": null,
      "metadata": {
        "colab": {
          "base_uri": "https://localhost:8080/"
        },
        "id": "Q96Z4FEl6Izn",
        "outputId": "a71eb0ac-c5a4-4536-b4f7-80125945911d"
      },
      "outputs": [],
      "source": [
        "#wybór pacjentów, którzy mają przynajmniej 6 wyników\n",
        "id_df=df[[\"PACJENT_NR\",\"BADANIE_NR\"]].groupby('PACJENT_NR').max().add_suffix('_liczba')>6\n",
        "id6=id_df.index[id_df[\"BADANIE_NR_liczba\"]]\n",
        "df6=df[df['PACJENT_NR'].isin(id6)]"
      ]
    },
    {
      "cell_type": "markdown",
      "metadata": {},
      "source": [
        "##### Correlation map"
      ]
    },
    {
      "cell_type": "code",
      "execution_count": null,
      "metadata": {
        "colab": {
          "base_uri": "https://localhost:8080/",
          "height": 865
        },
        "id": "oRSwfV0ix9lY",
        "outputId": "de53459a-af3c-463d-e8b6-0ae5f33fb9af"
      },
      "outputs": [],
      "source": [
        "cmap= sns.blend_palette([\"#6F92F2\",\"white\", \"#FF6666\"], n_colors=10)\n",
        "df_corr=df6[[\n",
        " 'BETET',\n",
        " 'CO2TET',\n",
        " 'HCO3ACTE',\n",
        " 'HCO3STTE',\n",
        " 'O2SATTET',\n",
        " 'O2TET','PHTET',\n",
        " 'IONH']].corr(method='spearman')\n",
        "\n",
        "df_corr_rounded = df_corr.round(2)\n",
        "mask = ~np.tril(np.ones(df_corr.shape[1])).astype(bool)\n",
        "\n",
        "fig, ax = plt.subplots(figsize=(10,8))\n",
        "fig=sns.heatmap(df_corr_rounded, cmap=cmap, annot=True, mask=mask, linewidths=0.1, annot_kws=dict(size=14))\n",
        "ax.set_xticklabels([\"BE\",\"pCO$_2$\", \"act. \\n HCO$_3$ \", \"std. \\n  HCO$_3$\", \"O$_2$ sat.\" ,\"pO$_2$\", \"pH\",\"[H$^\\plus$]\" ])\n",
        "ax.set_yticklabels([\"BE\",\"pCO$_2$\", \"act. \\n HCO$_3$ \", \"std. \\n  HCO$_3$\", \"O$_2$ sat.\" ,\"pO$_2$\", \"pH\",\"[H$^\\plus$]\" ])\n",
        "sns.set()\n",
        "plt.xticks(size=12)\n",
        "plt.yticks(size=12)\n",
        "plt.xticks(rotation=0)"
      ]
    },
    {
      "cell_type": "markdown",
      "metadata": {},
      "source": [
        "##### Unification od data"
      ]
    },
    {
      "cell_type": "code",
      "execution_count": null,
      "metadata": {
        "id": "0yYy8g-H2uY6"
      },
      "outputs": [],
      "source": [
        "#normalizacja: 0-min, 1-max\n",
        "df1=df6.copy()\n",
        "df1[\"BETET\"] = (df1[\"BETET\"] - (-2.3))/(2.3 - -(2.3))\n",
        "df1[\"IONH\"] = (df1[\"IONH\"] - 35)/(45 - 35)\n",
        "df1[\"O2SATTET\"] = (df1[\"O2SATTET\"] - 95)/(100 - 95)\n",
        "df1[\"CO2TET\"] = (df1[\"CO2TET\"] - 35)/(45 - 35)\n",
        "df1[\"O2TET\"] = (df1[\"O2TET\"] - 75)/(100 - 75)\n",
        "df1[\"HCO3STTE\"] = (df1[\"HCO3STTE\"] - 22)/(28 - 22)\n",
        "df1[\"HCO3ACTE\"] = (df1[\"HCO3ACTE\"] - 22)/(28 - 22)\n",
        "df1[\"ZGON\"] = np.where(df1[\"ZGON\"] == \"NIE\", 0, 1)\n",
        "df1[\"PHTET\"] = (df1[\"PHTET\"] - 7.35)/(7.45 - 7.35)\n",
        "yeslist = [\"PACJENT_NR\",\"BETET\", \"IONH\", \"O2SATTET\",  \"CO2TET\"] #\"HCO3STTE\", \"HCO3ACTE\", \"O2TET\""
      ]
    },
    {
      "cell_type": "markdown",
      "metadata": {},
      "source": [
        "##### Boxplots"
      ]
    },
    {
      "cell_type": "code",
      "execution_count": null,
      "metadata": {
        "colab": {
          "base_uri": "https://localhost:8080/",
          "height": 725
        },
        "id": "PZc_I5_o7ror",
        "outputId": "f303ec27-f263-492d-c0aa-cd439a1153df"
      },
      "outputs": [],
      "source": [
        "df_catplot=df1[[ \"BETET\", \"CO2TET\", \"O2SATTET\", \"IONH\",\"ZGON\"]].copy()\n",
        "df_catplot[\"ZGON\"].replace({0: \"recovered\", 1: \"deceased\"}, inplace=True)\n",
        "df_transformed = pd.melt(df_catplot, id_vars=['ZGON'], var_name='variable', value_name='value')\n",
        "\n",
        "plt.figure(figsize=(10, 8))\n",
        "plt.axhline(y=0, color='black', linestyle='--', linewidth=0.5)\n",
        "plt.axhline(y=1, color='black', linestyle='--', linewidth=0.5)\n",
        "sns.boxplot(data=df_transformed, x='variable', y='value', hue=\"ZGON\", palette={'recovered': \"#004AAD\", 'deceased': \"#FF3131\"},\n",
        "            fliersize=3, boxprops=dict(linewidth=1), meanprops=dict(linewidth=0.1))\n",
        "sns.set(style=\"whitegrid\")\n",
        "\n",
        "plt.xlabel('Variable')\n",
        "plt.ylabel('Rescaled value')\n",
        "plt.yticks(ticks=[-10, -5, 0,  1, 5, 10], labels=[-10, -5, 0,  1, 5, 10])\n",
        "plt.xticks(ticks=[0,1,2,3,], labels=[\"BE\",\"pCO$_2$\", \"O$_2$ sat.\", \"[H$^\\plus$]\"])\n",
        "plt.legend(title=\"\")"
      ]
    },
    {
      "cell_type": "markdown",
      "metadata": {},
      "source": [
        "##### Welch's test for firsts results"
      ]
    },
    {
      "cell_type": "code",
      "execution_count": null,
      "metadata": {
        "colab": {
          "base_uri": "https://localhost:8080/"
        },
        "id": "daMEIYZufh9y",
        "outputId": "1507742f-c15b-4721-8762-9c75f8a7c2f3"
      },
      "outputs": [],
      "source": [
        "from scipy.stats import ttest_ind\n",
        "df6[df6[\"BADANIE_NR\"]==1].groupby(\"ZGON\").mean()\n",
        "df6[df6[\"BADANIE_NR\"]==1].groupby(\"ZGON\").std()\n",
        "\n",
        "group1 = df6[((df6[\"BADANIE_NR\"]==1) & (df6[\"ZGON\"]==\"TAK\"))]\n",
        "group2 = df6[((df6[\"BADANIE_NR\"]==1) & (df6[\"ZGON\"]==\"NIE\"))]\n",
        "\n",
        "#perform Welch's t-test\n",
        "print(ttest_ind(group1['BETET'], group2['BETET']))\n",
        "print(ttest_ind(group1['IONH'], group2['IONH']))\n",
        "print(ttest_ind(group1['CO2TET'], group2['CO2TET']))\n",
        "print(ttest_ind(group1['O2SATTET'], group2['O2SATTET']))"
      ]
    },
    {
      "cell_type": "markdown",
      "metadata": {},
      "source": [
        "#### Charts of mean value + std deviation"
      ]
    },
    {
      "cell_type": "code",
      "execution_count": null,
      "metadata": {
        "colab": {
          "base_uri": "https://localhost:8080/",
          "height": 654
        },
        "id": "rHHldqujYSat",
        "outputId": "031bdcaa-49e2-405b-8406-6e4ec195f5ba"
      },
      "outputs": [],
      "source": [
        "df_line=df6[[ \"BADANIE_NR\", \"IONH\",\"ZGON\"]].copy()\n",
        "df_line[\"ZGON\"].replace({\"NIE\": \"recovered\", \"TAK\": \"deceased\"}, inplace=True)\n",
        "# sns.set(style=\"whitegrid\")\n",
        "plt.figure(figsize=(10, 6))\n",
        "fig1=sns.lineplot(data=df_line, x=\"BADANIE_NR\", y='IONH', hue=\"ZGON\", ci='sd', palette={'recovered': \"#6F92F2\", 'deceased': \"#FF6666\"}),\n",
        "\n",
        "plt.xlabel('measurement number')\n",
        "plt.ylabel('[H$^{\\plus}$]')\n",
        "plt.xlim(0,50)\n",
        "plt.xticks(ticks=[1,10,20,30,40,50])\n",
        "plt.legend(title=\"\")\n"
      ]
    },
    {
      "cell_type": "code",
      "execution_count": null,
      "metadata": {
        "colab": {
          "base_uri": "https://localhost:8080/",
          "height": 654
        },
        "id": "MfdK9y6GZlPs",
        "outputId": "2983c557-b61e-4427-c5e5-5af5820f4859"
      },
      "outputs": [],
      "source": [
        "df_line=df6[[ \"BADANIE_NR\", \"CO2TET\",\"ZGON\"]].copy()\n",
        "df_line[\"ZGON\"].replace({\"NIE\": \"recovered\", \"TAK\": \"deceased\"}, inplace=True)\n",
        "sns.set(style=\"whitegrid\")\n",
        "plt.figure(figsize=(10, 6))\n",
        "fig2=sns.lineplot(data=df_line, x=\"BADANIE_NR\", y='CO2TET', hue=\"ZGON\", ci='sd', palette={'recovered': \"#6F92F2\", 'deceased': \"#FF6666\"})\n",
        "\n",
        "plt.xlabel('measurement number')\n",
        "plt.ylabel('pCO$_2$')\n",
        "plt.xlim(0,50)\n",
        "plt.xticks(ticks=[1,10,20,30,40,50])\n",
        "plt.legend(title=\"\")"
      ]
    },
    {
      "cell_type": "code",
      "execution_count": null,
      "metadata": {
        "colab": {
          "base_uri": "https://localhost:8080/",
          "height": 140
        },
        "id": "0bE4nT7rZwSU",
        "outputId": "184ced02-dbc2-40db-8f9d-a4b96319c20e"
      },
      "outputs": [],
      "source": [
        "df_line=df6[[ \"BADANIE_NR\", \"O2SATTET\",\"ZGON\"]].copy()\n",
        "df_line[\"ZGON\"].replace({\"NIE\": \"recovered\", \"TAK\": \"deceased\"}, inplace=True)\n",
        "sns.set(style=\"whitegrid\")\n",
        "plt.figure(figsize=(10, 6))\n",
        "fig3=sns.lineplot(data=df_line, x=\"BADANIE_NR\", y='O2SATTET', hue=\"ZGON\", ci='sd', palette={'recovered': \"#6F92F2\", 'deceased': \"#FF6666\"})\n",
        "\n",
        "plt.xlabel('measurement number')\n",
        "plt.ylabel('O$_2$ saturation')\n",
        "plt.xlim(0,50)\n",
        "plt.xticks(ticks=[1,10,20,30,40,50])\n",
        "plt.legend(title=\"\")"
      ]
    },
    {
      "cell_type": "code",
      "execution_count": null,
      "metadata": {
        "colab": {
          "base_uri": "https://localhost:8080/",
          "height": 654
        },
        "id": "LSmxCC_VcDXR",
        "outputId": "6612790b-2cb0-422c-fedf-179e7eec4da7"
      },
      "outputs": [],
      "source": [
        "df_line=df6[[ \"BADANIE_NR\", \"BETET\",\"ZGON\"]].copy()\n",
        "df_line[\"ZGON\"].replace({\"NIE\": \"recovered\", \"TAK\": \"deceased\"}, inplace=True)\n",
        "sns.set(style=\"whitegrid\")\n",
        "plt.figure(figsize=(10, 6))\n",
        "fig4=sns.lineplot(data=df_line, x=\"BADANIE_NR\", y='BETET', hue=\"ZGON\", ci='sd', palette={'recovered': \"#6F92F2\", 'deceased': \"#FF6666\"})\n",
        "\n",
        "plt.xlabel('measurement number')\n",
        "plt.ylabel('BE')\n",
        "plt.xlim(0,50)\n",
        "plt.xticks(ticks=[1,10,20,30,40,50])\n",
        "plt.legend(title=\"\")"
      ]
    },
    {
      "cell_type": "markdown",
      "metadata": {},
      "source": [
        "#### Features extraction"
      ]
    },
    {
      "cell_type": "code",
      "execution_count": null,
      "metadata": {
        "id": "P-WYVT98KZ3E"
      },
      "outputs": [],
      "source": [
        "from itertools import groupby\n",
        "def rle(data):\n",
        "  x = [len(list(y)) for x, y in groupby(data) if x==True]\n",
        "  if x==[]:\n",
        "    return 0\n",
        "  return max(x)"
      ]
    },
    {
      "cell_type": "code",
      "execution_count": null,
      "metadata": {
        "id": "UJyBYlAaCJMT"
      },
      "outputs": [],
      "source": [
        "#Obliczenie różnic\n",
        "dfr=df.copy()\n",
        "nr_pacjenta=dfr[\"PACJENT_NR\"]\n",
        "dfr2=dfr[yeslist].groupby('PACJENT_NR').diff()\n",
        "dfr3=pd.concat([nr_pacjenta, dfr2], axis=1)\n",
        "dfr_mdiff=dfr3.groupby('PACJENT_NR').mean().add_suffix('_mdiff')\n",
        "#dfr_mdiff\n"
      ]
    },
    {
      "cell_type": "code",
      "execution_count": null,
      "metadata": {
        "id": "z4HXX6QX2uY7"
      },
      "outputs": [],
      "source": [
        "df_mean = df[yeslist].groupby('PACJENT_NR').mean().add_suffix('_mean')\n",
        "df_min = df[yeslist].groupby('PACJENT_NR').min().add_suffix('min')\n",
        "df_max = df[yeslist].groupby('PACJENT_NR').max().add_suffix('max')\n",
        "df_med = df[yeslist].groupby('PACJENT_NR').median().add_suffix('median')\n",
        "df_size = df[['PACJENT_NR', 'BADANIE_NR']].groupby('PACJENT_NR').count().add_suffix('_size')\n",
        "df_std = df[yeslist].groupby('PACJENT_NR').std().add_suffix('_std')\n",
        "df_sum = df[yeslist].groupby('PACJENT_NR').sum().add_suffix('_sum')\n",
        "\n",
        "df_rzad_pom_ups=pd.concat([df1[\"PACJENT_NR\"],df1[[\"BETET\", \"IONH\", \"O2SATTET\", \"CO2TET\"]]>1], axis=1) #\"O2TET\", \"HCO3STTE\", \"HCO3ACTE\"\n",
        "df_rzad_ups=df_rzad_pom_ups.groupby(\"PACJENT_NR\").agg(rle).add_suffix('_rzad_ups')\n",
        "\n",
        "df_rzad_pom_downs=pd.concat([df1[\"PACJENT_NR\"],df1[[\"BETET\", \"IONH\", \"O2SATTET\", \"CO2TET\"]]<0], axis=1) #\"O2TET\", \"HCO3STTE\", \"HCO3ACTE\"\n",
        "df_rzad_downs=df_rzad_pom_downs.groupby(\"PACJENT_NR\").agg(rle).add_suffix('_rzad_downs')\n",
        "\n",
        "df_zgon = df1[['PACJENT_NR', 'ZGON']].groupby('PACJENT_NR').first()\n",
        "\n",
        "\n",
        "#Zliczanie wyników za niskich\n",
        "df_no_drops = df1.copy()\n",
        "for col in yeslist:\n",
        "    if col != \"PACJENT_NR\":\n",
        "        df_no_drops[col] = np.where(df1[col] < 0, 1, 0) #1-za niski, 0-nie za niski\n",
        "\n",
        "#Zliczanie wyników za wysokich\n",
        "df_no_ups = df1.copy()\n",
        "for col in yeslist:\n",
        "    if col != \"PACJENT_NR\":\n",
        "        df_no_ups[col] = np.where(df1[col] > 1, 1, 0) #1-za wysoki, 0-nie za wysoki\n",
        "\n",
        "#Zliczanie wyników poza normą drop-poniżej up-powyżej\n",
        "df_no_dropup = df1.copy()\n",
        "for col in yeslist:\n",
        "    if col != \"PACJENT_NR\": #dla innych kolumn niż numer pacjenta\n",
        "        df_no_dropup[col] = df_no_ups[col] + df_no_drops[col]\n",
        "\n",
        "#Dodanie kolumny nOK zliczającej, ile wyników pacjent miał ok\n",
        "df_no_dropup[\"nOK\"] = 0\n",
        "for col in yeslist:\n",
        "    if col != \"PACJENT_NR\":\n",
        "        df_no_dropup[\"nOK\"] += df_no_dropup[col]\n",
        "\n",
        "#Dodanie kolumny sOK, która przyjmuje wartość 1, gdy wszystkie wyniki były ok\n",
        "df_no_dropup[\"sOK\"] = np.where(df_no_dropup[\"nOK\"] == 0, 1, 0)\n",
        "\n",
        "#wypisz tablicę wszystkich wyników\n",
        "#print(df_no_dropup)\n",
        "\n",
        "#agregacja\n",
        "df_no_drops = df_no_drops[yeslist].groupby('PACJENT_NR').sum().add_suffix('_no_drops')\n",
        "df_no_ups = df_no_ups[yeslist].groupby('PACJENT_NR').sum().add_suffix('_no_up')\n",
        "df_no_dropup = df_no_dropup[[\"PACJENT_NR\",\"BETET\", \"IONH\", \"O2SATTET\", \"CO2TET\", \"nOK\", \"sOK\"]].groupby('PACJENT_NR').sum().add_suffix('_no_dropup')\n",
        "\n",
        "#\"O2TET\", \"HCO3STTE\", \"HCO3ACTE\"\n",
        "\n",
        "#łącznie\n",
        "df_list = [df_size,df_zgon, df_min, df_max, df_no_drops, df_no_ups, df_no_dropup, dfr_mdiff, df_rzad_ups, df_rzad_downs]\n",
        "#'df_mean, df_med, df_std, df_sum'\n",
        "df_all = pd.concat(df_list, axis=1)\n",
        "\n",
        "#usuwanie kolumn, które nie będą używane\n",
        "df_all.drop(columns=[\"O2SATTET_no_up\", \"O2SATTET_no_dropup\", \"O2SATTET_rzad_ups\" ,  \"O2SATTETmax\"], inplace=True)"
      ]
    },
    {
      "cell_type": "code",
      "execution_count": null,
      "metadata": {},
      "outputs": [],
      "source": [
        "#srednia wynikow min i max w grupach\n",
        "yeslist = [\"PACJENT_NR\",\"BETET\", \"IONH\", \"O2SATTET\",  \"CO2TET\", \"HCO3STTE\", \"HCO3ACTE\", \"O2TET\", \"PHTET\"]\n",
        "df_min2 = df6[yeslist].groupby('PACJENT_NR').min().add_suffix('min')\n",
        "df_max2 = df6[yeslist].groupby('PACJENT_NR').max().add_suffix('max')\n",
        "\n",
        "df_list2 = [df_zgon, df_size, df_min2, df_max2 ]\n",
        "df_min_max = pd.concat(df_list2, axis=1)\n",
        "\n",
        "df_min_max.head()\n",
        "\n",
        "min_max_mean = df_min_max.groupby('ZGON').mean()\n",
        "print(min_max_mean)"
      ]
    },
    {
      "cell_type": "markdown",
      "metadata": {},
      "source": [
        "#### Selecting important variables"
      ]
    },
    {
      "cell_type": "code",
      "execution_count": null,
      "metadata": {
        "colab": {
          "base_uri": "https://localhost:8080/"
        },
        "id": "lyMNffpD2uY9",
        "outputId": "6492d91f-532d-461d-f223-3febbed8c941"
      },
      "outputs": [],
      "source": [
        "df_all = df_all[df_all[\"BADANIE_NR_size\"] > 6]\n",
        "df_all[\"ZGON\"].replace({0: \"recovered\", 1: \"deceased\"}, inplace=True)\n",
        "df2_dead = df_all[df_all[\"ZGON\"]==\"deceased\"].copy()\n",
        "df2_life = df_all[df_all[\"ZGON\"]==\"recovered\"].copy()\n",
        "\n",
        "df2_dead.drop(columns=[\"ZGON\"], inplace=True)\n",
        "df2_life.drop(columns=[\"ZGON\"], inplace=True)\n",
        "df2_dead.columns"
      ]
    },
    {
      "cell_type": "code",
      "execution_count": null,
      "metadata": {
        "id": "wkGtr9FpPxej"
      },
      "outputs": [],
      "source": [
        "#metoda Manna-Whitneya\n",
        "tabela_MN=pd.DataFrame(columns=(\"nazwa\", \"statystyka\", \"p-wartosc\"))\n",
        "for column in df2_dead.columns:\n",
        "    kw = stats.mannwhitneyu(df2_dead[column], df2_life[column])\n",
        "    new_row = {\"nazwa\": column, \"statystyka\": kw[0], \"p-wartosc\": kw[1]}\n",
        "    tabela_MN = pd.concat([tabela_MN, pd.DataFrame([new_row])], ignore_index=True)\n",
        "nazwy_sign=tabela_MN[tabela_MN[\"p-wartosc\"]<0.05].nazwa"
      ]
    },
    {
      "cell_type": "markdown",
      "metadata": {},
      "source": [
        "#### Classification"
      ]
    },
    {
      "cell_type": "markdown",
      "metadata": {},
      "source": [
        "##### Dummmy classificator"
      ]
    },
    {
      "cell_type": "code",
      "execution_count": null,
      "metadata": {
        "colab": {
          "base_uri": "https://localhost:8080/"
        },
        "id": "iaccaAVQ3GFx",
        "outputId": "6688f10d-3af3-48ea-c92d-f512278a9f66"
      },
      "outputs": [],
      "source": [
        "#dummy classifier\n",
        "X=df_all[nazwy_sign]\n",
        "y=df_all[\"ZGON\"]\n",
        "\n",
        "model=DummyClassifier()\n",
        "skf = StratifiedKFold(n_splits=5, shuffle=True, random_state=18)\n",
        "\n",
        "s=list()\n",
        "stren=list()\n",
        "for i, (train_index, test_index) in enumerate(skf.split(X, y)):\n",
        "  model.fit(X.iloc[train_index], y.iloc[train_index])\n",
        "  s.append(np.round(model.score(X.iloc[test_index], y.iloc[test_index]),4))\n",
        "\n",
        "print(\"Wyniki kroswalidacji: \", s)\n",
        "print(\"Dokładność drzewa: \", np.mean(s))"
      ]
    },
    {
      "cell_type": "markdown",
      "metadata": {},
      "source": [
        "##### Decision Tree"
      ]
    },
    {
      "cell_type": "code",
      "execution_count": null,
      "metadata": {
        "colab": {
          "base_uri": "https://localhost:8080/"
        },
        "id": "J_RDJTzs3JTR",
        "outputId": "05e83e58-2c6d-4e7b-c658-f589dd55351a"
      },
      "outputs": [],
      "source": [
        "#drzewo decyzyjne z walidacją krzyżową i zbalansowaniem klas przy podziale na treningowe i testowe\n",
        "X=df_all[nazwy_sign]\n",
        "y=df_all[\"ZGON\"]\n",
        "model = tree.DecisionTreeClassifier(random_state=5, max_depth=3)\n",
        "skf = StratifiedKFold(n_splits=5, shuffle=True, random_state=18) #5\n",
        "\n",
        "s=list()\n",
        "stren=list()\n",
        "for i, (train_index, test_index) in enumerate(skf.split(X, y)):\n",
        "  model.fit(X.iloc[train_index], y.iloc[train_index])\n",
        "  s.append(np.round(model.score(X.iloc[test_index], y.iloc[test_index]),4))\n",
        "  stren.append(np.round(model.score(X.iloc[train_index], y.iloc[train_index]),4))\n",
        "\n",
        "print(\"Wyniki uczenia: \", stren)\n",
        "print(\"Dokładność uczenia: \", np.mean(stren))\n",
        "print()\n",
        "print(\"Wyniki kroswalidacji: \", s)\n",
        "print(\"Dokładność drzewa: \", np.mean(s))"
      ]
    },
    {
      "cell_type": "code",
      "execution_count": null,
      "metadata": {
        "colab": {
          "base_uri": "https://localhost:8080/",
          "height": 74
        },
        "id": "rca4xrLkBRon",
        "outputId": "ca2030ef-7904-47a3-cf70-db589bc8d4b8"
      },
      "outputs": [],
      "source": [
        "model.fit(X, y)"
      ]
    },
    {
      "cell_type": "markdown",
      "metadata": {},
      "source": [
        "##### Feature importances"
      ]
    },
    {
      "cell_type": "code",
      "execution_count": null,
      "metadata": {
        "colab": {
          "base_uri": "https://localhost:8080/"
        },
        "id": "5tKQRnmd6cIr",
        "outputId": "230de99b-7b98-4d5e-944e-dc1a191af102"
      },
      "outputs": [],
      "source": [
        "wartosci=model.feature_importances_\n",
        "print(X.columns)\n",
        "kategorie=['minimum BETET \\n measurement', 'minimum [H$^\\plus$] \\n (maximum pH)', 'maximum [H$^\\plus$] (minimum pH)', 'maximum pCO$_2$', 'BETET below the norm [number of cases]',\n",
        "           '[H$^\\plus$] below the norm \\n (pH above the norm [number of cases])', 'pO$_2$ saturation below the norm \\n [number of cases]', 'pCO$_2$ below the norm [number of cases]',\n",
        "           'BETET above the norm [number of cases]',\n",
        "           '[H$^\\plus$] above the norm \\n (pH below the norm) \\n [number of cases]', 'average change in \\n ion H concentration', 'average change in \\n O$_2$ saturation', 'average change in pCO$_2$',\n",
        "           'BETET above the norm [number of cases in a row]', '[H$^\\plus$] above the norm \\n (pH below the norm) \\n [number of cases in a row]', 'BETET below the norm [number of cases in a row]',\n",
        "           '[H$^\\plus$] below the norm \\n (pH above the norm) \\n [number of cases in a row]', 'O$_2$ saturation above the norm \\n [number of cases in a row]']"
      ]
    },
    {
      "cell_type": "code",
      "execution_count": null,
      "metadata": {
        "colab": {
          "base_uri": "https://localhost:8080/",
          "height": 473
        },
        "id": "JKGV1Usvf5x9",
        "outputId": "f33eb5b4-cd7e-4295-96f9-b5cf04d41872"
      },
      "outputs": [],
      "source": [
        "# Tworzenie wykresu słupkowego\n",
        "niezerowe_wartosci = [x for x in wartosci if x != 0]\n",
        "niezerowe_kategorie = [kategorie[i] for i, x in enumerate(wartosci) if x != 0]\n",
        "\n",
        "#sortowanie\n",
        "sorted_niezerowe_wartosci, sorted_niezerowe_kategorie = zip(*sorted(zip(niezerowe_wartosci, niezerowe_kategorie), reverse=False))\n",
        "\n",
        "# Tworzenie wykresu słupkowego z niezerowymi wartościami\n",
        "fig, ax = plt.subplots(figsize=(7,5))\n",
        "plt.barh(sorted_niezerowe_kategorie, sorted_niezerowe_wartosci)\n",
        "\n",
        "plt.xlabel('Feature Importance')\n",
        "plt.ylabel('Feature Name')\n",
        "ax.yaxis.set_label_coords(-0.5, 0.5)\n",
        "plt.show()"
      ]
    },
    {
      "cell_type": "markdown",
      "metadata": {},
      "source": [
        "#### Tree visualisation"
      ]
    },
    {
      "cell_type": "code",
      "execution_count": null,
      "metadata": {
        "colab": {
          "base_uri": "https://localhost:8080/",
          "height": 599
        },
        "id": "spbbWjmNjR8s",
        "outputId": "a8d98bf6-6205-4f97-98b5-29b7a0bfde51"
      },
      "outputs": [],
      "source": [
        "dot_data = export_graphviz(model, out_file=None,\n",
        "                           feature_names=X.columns,\n",
        "                           class_names=[ \"ZGON - TAK\",\"ZGON - NIE\"],\n",
        "                           filled=False, rounded=True)\n",
        "\n",
        "graph = graphviz.Source(dot_data)\n",
        "graph\n"
      ]
    },
    {
      "cell_type": "code",
      "execution_count": null,
      "metadata": {
        "id": "81YlJ5DBr0x7"
      },
      "outputs": [],
      "source": [
        "for i, (train_index, test_index) in enumerate(skf.split(X, y)):\n",
        "  model.fit(X.iloc[train_index], y.iloc[train_index])\n",
        "  dot_data = export_graphviz(model, out_file=None,\n",
        "                           feature_names=X.columns,\n",
        "                           class_names=[\"ZGON - NIE\", \"ZGON - TAK\"],\n",
        "                           filled=False, rounded=True)\n",
        "  graph = graphviz.Source(dot_data)\n",
        "  graph.format = 'png'\n",
        "  graph.render(f'drzewo_gazometria_{i}')"
      ]
    }
  ],
  "metadata": {
    "colab": {
      "provenance": []
    },
    "kernelspec": {
      "display_name": "Python 3",
      "language": "python",
      "name": "python3"
    },
    "language_info": {
      "codemirror_mode": {
        "name": "ipython",
        "version": 3
      },
      "file_extension": ".py",
      "mimetype": "text/x-python",
      "name": "python",
      "nbconvert_exporter": "python",
      "pygments_lexer": "ipython3",
      "version": "3.8.0"
    }
  },
  "nbformat": 4,
  "nbformat_minor": 0
}
